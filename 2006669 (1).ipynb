{
 "cells": [
  {
   "cell_type": "markdown",
   "id": "efa32905",
   "metadata": {},
   "source": [
    "Week 2:"
   ]
  },
  {
   "cell_type": "markdown",
   "id": "fd4f5850",
   "metadata": {},
   "source": [
    "ID: 2006669\n",
    "\n",
    "Exercise 3"
   ]
  },
  {
   "cell_type": "code",
   "execution_count": 3,
   "id": "d2bb7176",
   "metadata": {},
   "outputs": [
    {
     "name": "stdout",
     "output_type": "stream",
     "text": [
      "[0 1 2 3 4 5 6 7 8 9]\n",
      "[ 0  1  2  3 25 25 25  7  8  9]\n",
      "[-1 25 25]\n",
      "[ 0  1  2  3 25 25 25  7  8  9]\n"
     ]
    }
   ],
   "source": [
    "import numpy as np #Need to import numpy to use array operation\n",
    "\n",
    "my_arr=np.arange(10)\n",
    "print(my_arr)\n",
    "my_arr[4:7]= 25\n",
    "print(my_arr)\n",
    "arr_slice=my_arr[4:7].copy() # Create one copy of the slice\n",
    "arr_slice[0]=-1\n",
    "print(arr_slice)\n",
    "print(my_arr)"
   ]
  },
  {
   "cell_type": "markdown",
   "id": "b8af3f69",
   "metadata": {},
   "source": [
    "Exercise 4: "
   ]
  },
  {
   "cell_type": "code",
   "execution_count": 9,
   "id": "208f8af0",
   "metadata": {},
   "outputs": [
    {
     "data": {
      "image/png": "[encoded data removed]",
      "text/plain": [
       "<Figure size 432x288 with 1 Axes>"
      ]
     },
     "metadata": {},
     "output_type": "display_data"
    }
   ],
   "source": [
    "import numpy as np\n",
    "import matplotlib.pyplot as plt\n",
    "\n",
    "# Determine the dimensions\n",
    "image_size = 400\n",
    "\n",
    "# create a black background\n",
    "image = np.zeros((image_size, image_size))\n",
    "\n",
    "# Determine the coordinates of the center\n",
    "center_x = 200\n",
    "center_y = 200\n",
    "\n",
    "# Set the radius of white spot\n",
    "radius = 100\n",
    "\n",
    "# Create a meshgrid of coordinates\n",
    "x, y = np.meshgrid(np.arange(image_size), np.arange(image_size))\n",
    "\n",
    "# Calculate the distance from each pixel to the center\n",
    "distance = np.sqrt((x - center_x) ** 2 + (y - center_y) ** 2)\n",
    "\n",
    "# Set the pixels inside the radius to white\n",
    "image[distance <= radius] = 1\n",
    "\n",
    "# Display white spot at middle of grayscale\n",
    "plt.imshow(image, cmap='gray')\n",
    "plt.title(\"White spot at middle of grayscale\")\n",
    "plt.axis('off')\n",
    "plt.xticks([]),plt.yticks([])\n",
    "plt.show()"
   ]
  },
  {
   "cell_type": "code",
   "execution_count": null,
   "id": "fb85f574",
   "metadata": {},
   "outputs": [],
   "source": []
  }
 ],
 "metadata": {
  "kernelspec": {
   "display_name": "Python 3 (ipykernel)",
   "language": "python",
   "name": "python3"
  },
  "language_info": {
   "codemirror_mode": {
    "name": "ipython",
    "version": 3
   },
   "file_extension": ".py",
   "mimetype": "text/x-python",
   "name": "python",
   "nbconvert_exporter": "python",
   "pygments_lexer": "ipython3",
   "version": "3.9.12"
  }
 },
 "nbformat": 4,
 "nbformat_minor": 5
}
