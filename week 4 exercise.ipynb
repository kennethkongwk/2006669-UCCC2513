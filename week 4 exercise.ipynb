{
 "cells": [
  {
   "cell_type": "markdown",
   "id": "40eae00d",
   "metadata": {},
   "source": [
    "## Exercise 1"
   ]
  },
  {
   "cell_type": "code",
   "execution_count": 1,
   "id": "f14fa34a",
   "metadata": {},
   "outputs": [
    {
     "data": {
      "text/plain": [
       "True"
      ]
     },
     "execution_count": 1,
     "metadata": {},
     "output_type": "execute_result"
    }
   ],
   "source": [
    "import sys\n",
    "assert sys.version_info >= (3,7)\n",
    "import cv2 as cv\n",
    "import numpy as np\n",
    "from util_func import show_img\n",
    "\n",
    "np.random.seed(99)\n",
    "\n",
    "if not cv.useOptimized():\n",
    "    cv.setUseOptimized(True)\n",
    "    \n",
    "cv.useOptimized()"
   ]
  },
  {
   "cell_type": "code",
   "execution_count": 14,
   "id": "493e605b",
   "metadata": {},
   "outputs": [],
   "source": [
    "from PIL import Image\n",
    "import numpy as np\n",
    "\n",
    "width = 300\n",
    "height = 300\n",
    "total_pixels = width * height\n",
    "\n",
    "# Random noise color img\n",
    "color_image = np.random.randint(0, 256, (height, width, 3), dtype=np.uint8)\n",
    "color_image = Image.fromarray(color_image, \"RGB\")\n",
    "color_image.save(\"Noise_color.png\")\n",
    "color_image.show()\n",
    "\n",
    "# Random noise grayscale img\n",
    "grayscale_image = np.random.randint(0, 256, (height, width), dtype=np.uint8)\n",
    "grayscale_image = Image.fromarray(grayscale_image, \"L\")\n",
    "grayscale_image.save(\"Noise_grayscale.png\")\n",
    "grayscale_image.show()"
   ]
  },
  {
   "cell_type": "markdown",
   "id": "5166f8a9",
   "metadata": {},
   "source": [
    "## Exercise 2"
   ]
  },
  {
   "cell_type": "code",
   "execution_count": 32,
   "id": "946a46f3",
   "metadata": {},
   "outputs": [],
   "source": [
    "img = cv.imread(\"images/dog.jfif\")\n",
    "\n",
    "# User-defined parameters\n",
    "n_vertical_grids = 6\n",
    "n_horizontal_grids = 6\n",
    "\n",
    "def crop_grid(img, n_horizontal_grids, n_vertical_grids, line_color = (0,0,255)):\n",
    "    img_copy = img.copy()\n",
    "\n",
    "    h, w = img.shape[:2]\n",
    "\n",
    "\n",
    "\n",
    "M = int(h / n_vertical_grids)\n",
    "N = int(w / n_horizontal_grids)\n",
    "\n",
    "# crop_grid(img,n_horizontal_grids,n_vertical_grids,)\n",
    "\n",
    "\n",
    "tiles = []  # List to store the cropped tiles\n",
    "\n",
    "for y in range(0, h, M):\n",
    "    for x in range(0, w, N):\n",
    "        x1 = x + N\n",
    "        y1 = y + M\n",
    "\n",
    "        if x1 > w and y1 > h:\n",
    "            x1 = w - 1\n",
    "            y1 = h - 1\n",
    "            cv.rectangle(img_copy, (x, y), (x1, y1), (0,0,255), 1)\n",
    "            tile = img[y:h, x:w]\n",
    "            tiles.append(tile)\n",
    "\n",
    "        elif y1 > h:\n",
    "            y1 = h - 1\n",
    "            cv.rectangle(img_copy, (x, y), (x1, y1), (0,0,255), 1)\n",
    "            tile = img[y:h, x:x1]\n",
    "            tiles.append(tile)\n",
    "\n",
    "        elif x1 > w:\n",
    "            x1 = w - 1\n",
    "            cv.rectangle(img_copy, (x, y), (x1, y1), (0,0,255), 1)\n",
    "            tile = img[y:y1, x:w]\n",
    "            tiles.append(tile)\n",
    "\n",
    "        else:\n",
    "            cv.rectangle(img_copy, (x, y), (x1, y1), (0,0,255), 1)\n",
    "            tile = img[y:y1, x:x1]\n",
    "            tiles.append(tile)\n",
    "\n",
    "cv.imshow(\"crop\", img_copy)\n",
    "cv.waitKey(0)\n",
    "cv.destroyAllWindows()"
   ]
  },
  {
   "cell_type": "markdown",
   "id": "b543723c",
   "metadata": {},
   "source": [
    "## Exercise 3"
   ]
  },
  {
   "cell_type": "code",
   "execution_count": 2,
   "id": "8b93ab61",
   "metadata": {},
   "outputs": [],
   "source": [
    "img1 = cv.imread(\"images/lena.jfif\")\n",
    "img2 = cv.imread(\"images/coins.jfif\")\n",
    "\n",
    "#Reshape img2\n",
    "new_shape = img1.shape[:2]\n",
    "img2 =cv.resize(img2, new_shape[::-1])\n",
    "\n",
    "dat = cv.addWeighted (img1, 0.85, img2, 0.45, 0)\n",
    "cv.imshow('lena',img1)\n",
    "cv.imshow('reshaped coin',img2)\n",
    "cv.imshow('blending',dat)\n",
    "cv.waitKey(0)\n",
    "cv.destroyAllWindows()\n"
   ]
  },
  {
   "cell_type": "markdown",
   "id": "04ac2061",
   "metadata": {},
   "source": [
    "## Exercise 4"
   ]
  },
  {
   "cell_type": "code",
   "execution_count": 5,
   "id": "44ea441f",
   "metadata": {},
   "outputs": [],
   "source": [
    "\n",
    "# Load the image\n",
    "img1 = cv.imread(\"images/travel_hd.png\")\n",
    "\n",
    "# Define the watermark text\n",
    "watermark_text = \"UCCC 2513\" \n",
    "\n",
    "#Reshape img2\n",
    "new_shape = img1.shape[:2]\n",
    "img1 =cv.resize(img1, new_shape[::-1])\n",
    "\n",
    "# Create a blank image with the same dimensions as img1\n",
    "watermark = np.zeros_like(img1, dtype=np.uint8)\n",
    "\n",
    "# Choose the font and other properties for the watermark text\n",
    "font = cv.FONT_HERSHEY_SIMPLEX\n",
    "font_scale = 1.5\n",
    "font_thickness = 2\n",
    "\n",
    "# Get the size of the watermark text\n",
    "text_size, _ = cv.getTextSize(watermark_text, font, font_scale, font_thickness)\n",
    "\n",
    "# Calculate the position to place the watermark text (bottom-left corner)\n",
    "text_pos = (10, img1.shape[0] - text_size[1] - 10)\n",
    "\n",
    "# Add the watermark text to the watermark image\n",
    "cv.putText(watermark, watermark_text, text_pos, font, font_scale, (255, 255, 255), font_thickness, cv.LINE_AA)\n",
    "\n",
    "# Blend the images\n",
    "result = cv.addWeighted(img1, 1, watermark, 0.8, 0)\n",
    "\n",
    "# Display the result\n",
    "cv.namedWindow('result', cv.WINDOW_NORMAL)\n",
    "cv.imshow('img1', img1)\n",
    "cv.imshow('Result', result)\n",
    "cv.waitKey(0)\n",
    "cv.destroyAllWindows()\n"
   ]
  }
 ],
 "metadata": {
  "kernelspec": {
   "display_name": "Python 3 (ipykernel)",
   "language": "python",
   "name": "python3"
  },
  "language_info": {
   "codemirror_mode": {
    "name": "ipython",
    "version": 3
   },
   "file_extension": ".py",
   "mimetype": "text/x-python",
   "name": "python",
   "nbconvert_exporter": "python",
   "pygments_lexer": "ipython3",
   "version": "3.10.9"
  }
 },
 "nbformat": 4,
 "nbformat_minor": 5
}
